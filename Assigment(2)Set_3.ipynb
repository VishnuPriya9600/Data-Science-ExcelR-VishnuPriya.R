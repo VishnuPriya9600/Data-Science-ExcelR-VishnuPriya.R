{
 "cells": [
  {
   "cell_type": "code",
   "execution_count": 1,
   "id": "6ea4ddac",
   "metadata": {},
   "outputs": [],
   "source": [
    "import pandas as pd\n",
    "import numpy as np\n",
    "from scipy import stats"
   ]
  },
  {
   "cell_type": "markdown",
   "id": "10176394",
   "metadata": {},
   "source": [
    "# Set 3"
   ]
  },
  {
   "cell_type": "markdown",
   "id": "dc0ddcfa",
   "metadata": {},
   "source": [
    "# Question 5"
   ]
  },
  {
   "cell_type": "code",
   "execution_count": 2,
   "id": "36c44584",
   "metadata": {},
   "outputs": [],
   "source": [
    "#population assumed by Microsoft\n",
    "p_h0 = 0.05"
   ]
  },
  {
   "cell_type": "code",
   "execution_count": 3,
   "id": "ab1acd77",
   "metadata": {},
   "outputs": [],
   "source": [
    "#Sample size\n",
    "n = 2000"
   ]
  },
  {
   "cell_type": "code",
   "execution_count": 4,
   "id": "ede36fef",
   "metadata": {},
   "outputs": [],
   "source": [
    "#Sample from reported data\n",
    "p_sample = 0.046"
   ]
  },
  {
   "cell_type": "code",
   "execution_count": 5,
   "id": "a75c5e15",
   "metadata": {},
   "outputs": [
    {
     "data": {
      "text/plain": [
       "0.004873397172404482"
      ]
     },
     "execution_count": 5,
     "metadata": {},
     "output_type": "execute_result"
    }
   ],
   "source": [
    "#calcuating the standarad error\n",
    "standard_error = ((p_h0 * (1-p_h0)) / n) ** 0.5\n",
    "standard_error"
   ]
  },
  {
   "cell_type": "code",
   "execution_count": 6,
   "id": "3809c85d",
   "metadata": {},
   "outputs": [
    {
     "data": {
      "text/plain": [
       "-0.820782681668124"
      ]
     },
     "execution_count": 6,
     "metadata": {},
     "output_type": "execute_result"
    }
   ],
   "source": [
    "#Z-score\n",
    "z_score = (p_sample - p_h0) / standard_error\n",
    "z_score"
   ]
  },
  {
   "cell_type": "code",
   "execution_count": 7,
   "id": "1491ac19",
   "metadata": {},
   "outputs": [
    {
     "data": {
      "text/plain": [
       "0.4117700649021421"
      ]
     },
     "execution_count": 7,
     "metadata": {},
     "output_type": "execute_result"
    }
   ],
   "source": [
    "p_value = 2 * (1 - stats.norm.cdf(abs(z_score)))\n",
    "p_value"
   ]
  },
  {
   "cell_type": "code",
   "execution_count": 8,
   "id": "1d18ca5d",
   "metadata": {},
   "outputs": [],
   "source": [
    "#significance level\n",
    "alpha = 0.05"
   ]
  },
  {
   "cell_type": "code",
   "execution_count": 13,
   "id": "748b16c6",
   "metadata": {},
   "outputs": [
    {
     "name": "stdout",
     "output_type": "stream",
     "text": [
      "Microsoft cannot conclude that Mozilla has a less than 5% share of the market.\n"
     ]
    }
   ],
   "source": [
    "if p_value < alpha:\n",
    "    print(\"Microsoft can conclude that Mozilla has a less than 5% share of the market.\")\n",
    "else:\n",
    "    print(\"Microsoft cannot conclude that Mozilla has a less than 5% share of the market.\")\n",
    "     \n"
   ]
  },
  {
   "cell_type": "code",
   "execution_count": null,
   "id": "f1f17692",
   "metadata": {},
   "outputs": [],
   "source": []
  }
 ],
 "metadata": {
  "kernelspec": {
   "display_name": "Python 3 (ipykernel)",
   "language": "python",
   "name": "python3"
  },
  "language_info": {
   "codemirror_mode": {
    "name": "ipython",
    "version": 3
   },
   "file_extension": ".py",
   "mimetype": "text/x-python",
   "name": "python",
   "nbconvert_exporter": "python",
   "pygments_lexer": "ipython3",
   "version": "3.11.4"
  }
 },
 "nbformat": 4,
 "nbformat_minor": 5
}
